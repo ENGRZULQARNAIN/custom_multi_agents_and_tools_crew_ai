{
 "cells": [
  {
   "cell_type": "markdown",
   "metadata": {},
   "source": [
    "## importing the dependencies"
   ]
  },
  {
   "cell_type": "code",
   "execution_count": 2,
   "metadata": {},
   "outputs": [],
   "source": [
    "from crewai import Agent\n",
    "from langchain.llms import OpenAI\n"
   ]
  },
  {
   "cell_type": "code",
   "execution_count": 7,
   "metadata": {},
   "outputs": [],
   "source": [
    "from tools import SearchDocters"
   ]
  },
  {
   "cell_type": "code",
   "execution_count": 3,
   "metadata": {},
   "outputs": [],
   "source": [
    "from dotenv import load_dotenv\n",
    "load_dotenv()\n",
    "import os\n",
    "os.environ[\"OPENAI_API_KEY\"]=os.getenv(\"OPENAI_API_KEY\")"
   ]
  },
  {
   "cell_type": "code",
   "execution_count": 4,
   "metadata": {},
   "outputs": [
    {
     "name": "stderr",
     "output_type": "stream",
     "text": [
      "d:\\COURSES\\MACHINE_LEARNING\\PROJECTS\\custom_multi_agents_and_tools_crew_ai\\myenv\\Lib\\site-packages\\langchain_core\\_api\\deprecation.py:141: LangChainDeprecationWarning: The class `ChatOpenAI` was deprecated in LangChain 0.0.10 and will be removed in 0.3.0. An updated version of the class exists in the langchain-openai package and should be used instead. To use it run `pip install -U langchain-openai` and import as `from langchain_openai import ChatOpenAI`.\n",
      "  warn_deprecated(\n"
     ]
    }
   ],
   "source": [
    "from langchain.chat_models import ChatOpenAI\n",
    "\n",
    "llm = ChatOpenAI(model='gpt-3.5') # Loading GPT-3.5"
   ]
  },
  {
   "cell_type": "code",
   "execution_count": 15,
   "metadata": {},
   "outputs": [],
   "source": [
    "from crewai_tools import tool\n",
    "@tool\n",
    "def search_docter():\n",
    "    \" its useful when need to search a doctors\"\n",
    "    doctors=[\n",
    "    {\n",
    "        \"name\": \"Dr Ali Muhammad\",\n",
    "        \"specialization\": \"Cardiology\",\n",
    "        \"fee\": \"1000\",\n",
    "        \"city\": \"Mardan\",\n",
    "        \"gender\": \"Male\"\n",
    "    },\n",
    "    {\n",
    "        \"name\": \"Dr Sara Khan\",\n",
    "        \"specialization\": \"Dermatology\",\n",
    "        \"fee\": \"1500\",\n",
    "        \"city\": \"Karachi\",\n",
    "        \"gender\": \"Female\"\n",
    "    },\n",
    "    {\n",
    "        \"name\": \"Dr Ahmed Raza\",\n",
    "        \"specialization\": \"Orthopedics\",\n",
    "        \"fee\": \"1200\",\n",
    "        \"city\": \"Lahore\",\n",
    "        \"gender\": \"Male\"\n",
    "    },\n",
    "    {\n",
    "        \"name\": \"Dr Ayesha Ahmed\",\n",
    "        \"specialization\": \"Pediatrics\",\n",
    "        \"fee\": \"1100\",\n",
    "        \"city\": \"Islamabad\",\n",
    "        \"gender\": \"Female\"\n",
    "    },\n",
    "    {\n",
    "        \"name\": \"Dr Hassan Ali\",\n",
    "        \"specialization\": \"Neurology\",\n",
    "        \"fee\": \"2000\",\n",
    "        \"city\": \"Peshawar\",\n",
    "        \"gender\": \"Male\"\n",
    "    },\n",
    "    {\n",
    "        \"name\": \"Dr Farah Javed\",\n",
    "        \"specialization\": \"Gynecology\",\n",
    "        \"fee\": \"1800\",\n",
    "        \"city\": \"Quetta\",\n",
    "        \"gender\": \"Female\"\n",
    "    },\n",
    "    {\n",
    "        \"name\": \"Dr Imran Haider\",\n",
    "        \"specialization\": \"Ophthalmology\",\n",
    "        \"fee\": \"1300\",\n",
    "        \"city\": \"Multan\",\n",
    "        \"gender\": \"Male\"\n",
    "    },\n",
    "    {\n",
    "        \"name\": \"Dr Hina Shahid\",\n",
    "        \"specialization\": \"Psychiatry\",\n",
    "        \"fee\": \"1600\",\n",
    "        \"city\": \"Rawalpindi\",\n",
    "        \"gender\": \"Female\"\n",
    "    },\n",
    "    {\n",
    "        \"name\": \"Dr Asad Mehmood\",\n",
    "        \"specialization\": \"Urology\",\n",
    "        \"fee\": \"1700\",\n",
    "        \"city\": \"Faisalabad\",\n",
    "        \"gender\": \"Male\"\n",
    "    },\n",
    "    {\n",
    "        \"name\": \"Dr Saira Bano\",\n",
    "        \"specialization\": \"Oncology\",\n",
    "        \"fee\": \"2100\",\n",
    "        \"city\": \"Hyderabad\",\n",
    "        \"gender\": \"Female\"\n",
    "    }\n",
    "]\n",
    "\n",
    "    return  doctors"
   ]
  },
  {
   "cell_type": "code",
   "execution_count": 25,
   "metadata": {},
   "outputs": [],
   "source": [
    "# Initialize the agent with advanced options\n",
    "agent = Agent(\n",
    "\n",
    "  role = \"Patient Referral Specialist\",\n",
    "\n",
    "goal=\"Your primary objective is to match patients with the most suitable doctors based on their specific medical condition, budget, location, and preferred gender of the doctor.\",\n",
    "\n",
    "backstory = \"As an experienced referral specialist,\\\n",
    "    you possess deep knowledge of doctors and their specializations.\\\n",
    "    You also have a keen understanding of patient needs,\\\n",
    "   allowing you to deliver personalized doctor recommendations that perfectly align with each patient's unique requirements.\\\n",
    "   Your expertise ensures that patients receive the best possible care, tailored to their individual circumstances.\",\n",
    "  tools=[search_docter],\n",
    " # Enable memory\n",
    "  verbose=True,\n",
    "  llm=llm,\n",
    "  max_rpm=None, # No limit on requests per minute\n",
    "  max_iter=40, # Default value for maximum iterations\n",
    "  allow_delegation=False\n",
    ")"
   ]
  },
  {
   "cell_type": "code",
   "execution_count": 26,
   "metadata": {},
   "outputs": [],
   "source": [
    "from crewai import Task\n",
    "task = Task(\n",
    "    description='find a docter in the city of mardan having the fee is nearer to 1000 and for the disease of hearts',\n",
    "    agent=agent,\n",
    "    expected_output='A list of doctors with name fees and location and specialization'\n",
    ")"
   ]
  },
  {
   "cell_type": "code",
   "execution_count": 27,
   "metadata": {},
   "outputs": [
    {
     "name": "stderr",
     "output_type": "stream",
     "text": [
      "2024-08-18 21:24:10,901 - 13000 - __init__.py-__init__:531 - WARNING: Overriding of current TracerProvider is not allowed\n"
     ]
    }
   ],
   "source": [
    "from crewai import Crew\n",
    "\n",
    "crew = Crew(agents=[agent],tasks=[task],verbose=True)"
   ]
  },
  {
   "cell_type": "code",
   "execution_count": 28,
   "metadata": {},
   "outputs": [
    {
     "name": "stdout",
     "output_type": "stream",
     "text": [
      "\u001b[1m\u001b[95m [2024-08-18 21:24:12][DEBUG]: == Working Agent: Patient Referral Specialist\u001b[00m\n",
      "\u001b[1m\u001b[95m [2024-08-18 21:24:12][INFO]: == Starting Task: find a docter in the city of mardan having the fee is nearer to 1000 and for the disease of hearts\u001b[00m\n",
      "\n",
      "\n",
      "\u001b[1m> Entering new CrewAgentExecutor chain...\u001b[0m\n",
      "\u001b[32;1m\u001b[1;3m\u001b[0m\n",
      "\n",
      "\u001b[1m> Finished chain.\u001b[0m\n",
      "\u001b[1m\u001b[92m [2024-08-18 21:24:27][DEBUG]: == [Patient Referral Specialist] Task output: Agent stopped due to iteration limit or time limit.\n",
      "\n",
      "\u001b[00m\n"
     ]
    },
    {
     "data": {
      "text/plain": [
       "CrewOutput(raw='Agent stopped due to iteration limit or time limit.', pydantic=None, json_dict=None, tasks_output=[TaskOutput(description='find a docter in the city of mardan having the fee is nearer to 1000 and for the disease of hearts', summary='find a docter in the city of mardan having the...', raw='Agent stopped due to iteration limit or time limit.', pydantic=None, json_dict=None, agent='Patient Referral Specialist', output_format=<OutputFormat.RAW: 'raw'>)], token_usage=UsageMetrics(total_tokens=0, prompt_tokens=0, completion_tokens=0, successful_requests=0))"
      ]
     },
     "execution_count": 28,
     "metadata": {},
     "output_type": "execute_result"
    }
   ],
   "source": [
    "crew.kickoff()"
   ]
  },
  {
   "cell_type": "code",
   "execution_count": null,
   "metadata": {},
   "outputs": [],
   "source": []
  }
 ],
 "metadata": {
  "kernelspec": {
   "display_name": "myenv",
   "language": "python",
   "name": "python3"
  },
  "language_info": {
   "codemirror_mode": {
    "name": "ipython",
    "version": 3
   },
   "file_extension": ".py",
   "mimetype": "text/x-python",
   "name": "python",
   "nbconvert_exporter": "python",
   "pygments_lexer": "ipython3",
   "version": "3.12.4"
  }
 },
 "nbformat": 4,
 "nbformat_minor": 2
}
